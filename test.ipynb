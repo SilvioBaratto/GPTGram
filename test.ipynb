{
 "cells": [
  {
   "cell_type": "code",
   "execution_count": null,
   "metadata": {},
   "outputs": [],
   "source": [
    "import torch\n",
    "import os\n",
    "from GPTGram import GramDataset"
   ]
  },
  {
   "cell_type": "code",
   "execution_count": null,
   "metadata": {},
   "outputs": [],
   "source": [
    "config_args = dict(n_layer=48, n_head=25, n_embd=1600)\n",
    "\n",
    "        \n",
    "\n",
    "# Force vocab_size=50257, block_size=1024, and bias=True\n",
    "config_args['vocab_size'] = 50257  # always 50257 for GPT model checkpoints\n",
    "config_args['block_size'] = 1024  # always 1024 for GPT model checkpoints\n",
    "config_args['bias'] = True  # always True for GPT model checkpoints"
   ]
  },
  {
   "cell_type": "code",
   "execution_count": null,
   "metadata": {},
   "outputs": [],
   "source": [
    "from torch.utils.data import DataLoader\n",
    "\n",
    "data_dir = 'data'\n",
    "# Load datasets\n",
    "train_dataset = GramDataset(os.path.join(data_dir, 'train.bin'))\n",
    "val_dataset = GramDataset(os.path.join(data_dir, 'val.bin'))\n",
    "# Create dataloaders\n",
    "train_dataloader = DataLoader(train_dataset, batch_size=12, shuffle=False)\n",
    "val_dataloader = DataLoader(val_dataset, batch_size=12, shuffle=False)"
   ]
  },
  {
   "cell_type": "code",
   "execution_count": null,
   "metadata": {},
   "outputs": [],
   "source": [
    "for x_batch, y_batch in train_dataloader:\n",
    "    print(x_batch)\n",
    "    print(y_batch)\n",
    "    break"
   ]
  }
 ],
 "metadata": {
  "kernelspec": {
   "display_name": "base",
   "language": "python",
   "name": "python3"
  },
  "language_info": {
   "codemirror_mode": {
    "name": "ipython",
    "version": 3
   },
   "file_extension": ".py",
   "mimetype": "text/x-python",
   "name": "python",
   "nbconvert_exporter": "python",
   "pygments_lexer": "ipython3",
   "version": "3.9.16"
  },
  "orig_nbformat": 4
 },
 "nbformat": 4,
 "nbformat_minor": 2
}
