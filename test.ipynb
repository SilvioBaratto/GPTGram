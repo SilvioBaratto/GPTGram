{
 "cells": [
  {
   "cell_type": "code",
   "execution_count": 4,
   "metadata": {},
   "outputs": [],
   "source": [
    "import torch\n",
    "import os\n",
    "from GPTGram import GramDataset"
   ]
  },
  {
   "cell_type": "code",
   "execution_count": 5,
   "metadata": {},
   "outputs": [],
   "source": [
    "from torch.utils.data import DataLoader\n",
    "\n",
    "data_dir = 'data'\n",
    "# Load datasets\n",
    "train_dataset = GramDataset(os.path.join(data_dir, 'train.bin'))\n",
    "\n",
    "# Create dataloaders\n",
    "train_dataloader = DataLoader(train_dataset, batch_size=12, shuffle=False)"
   ]
  },
  {
   "cell_type": "code",
   "execution_count": 6,
   "metadata": {},
   "outputs": [
    {
     "name": "stdout",
     "output_type": "stream",
     "text": [
      "tensor([[   45,  1572,    25,  ...,  3396,  4528, 18291],\n",
      "        [ 1572,    25, 24398,  ...,  4528, 18291, 11072],\n",
      "        [   25, 24398, 36479,  ..., 18291, 11072,     9],\n",
      "        ...,\n",
      "        [  886,    12,  1462,  ..., 38432,  4194,  1504],\n",
      "        [   12,  1462,    12,  ...,  4194,  1504,  1008],\n",
      "        [ 1462,    12,   437,  ...,  1504,  1008,   127]])\n",
      "tensor([[ 1572,    25, 24398,  ...,  4528, 18291, 11072],\n",
      "        [   25, 24398, 36479,  ..., 18291, 11072,     9],\n",
      "        [24398, 36479,  1095,  ..., 11072,     9, 43074],\n",
      "        ...,\n",
      "        [   12,  1462,    12,  ...,  4194,  1504,  1008],\n",
      "        [ 1462,    12,   437,  ...,  1504,  1008,   127],\n",
      "        [   12,   437, 19365,  ...,  1008,   127,   110]])\n"
     ]
    }
   ],
   "source": [
    "for x_batch, y_batch in train_dataloader:\n",
    "    print(x_batch)\n",
    "    print(y_batch)\n",
    "    break"
   ]
  }
 ],
 "metadata": {
  "kernelspec": {
   "display_name": "base",
   "language": "python",
   "name": "python3"
  },
  "language_info": {
   "codemirror_mode": {
    "name": "ipython",
    "version": 3
   },
   "file_extension": ".py",
   "mimetype": "text/x-python",
   "name": "python",
   "nbconvert_exporter": "python",
   "pygments_lexer": "ipython3",
   "version": "3.9.16"
  },
  "orig_nbformat": 4
 },
 "nbformat": 4,
 "nbformat_minor": 2
}
